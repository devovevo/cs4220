{
  "nbformat": 4,
  "nbformat_minor": 0,
  "metadata": {
    "colab": {
      "provenance": [],
      "gpuType": "T4",
      "include_colab_link": true
    },
    "kernelspec": {
      "name": "python3",
      "display_name": "Python 3"
    },
    "language_info": {
      "name": "python"
    },
    "accelerator": "GPU"
  },
  "cells": [
    {
      "cell_type": "markdown",
      "metadata": {
        "id": "view-in-github",
        "colab_type": "text"
      },
      "source": [
        "<a href=\"https://colab.research.google.com/github/devovevo/cs4220/blob/main/QR_Fact.ipynb\" target=\"_parent\"><img src=\"https://colab.research.google.com/assets/colab-badge.svg\" alt=\"Open In Colab\"/></a>"
      ]
    },
    {
      "cell_type": "code",
      "execution_count": 2,
      "metadata": {
        "id": "oDOCcYyR_INs"
      },
      "outputs": [],
      "source": [
        "import time\n",
        "\n",
        "import numpy as np\n",
        "import pandas as pd\n",
        "import scipy\n",
        "\n",
        "import matplotlib.pyplot as plt\n",
        "\n",
        "np.set_printoptions(formatter={'float': lambda x: f\"{x:10.4g}\"})"
      ]
    },
    {
      "cell_type": "code",
      "source": [
        "def houseHolder(A, K, computeQ=False):\n",
        "  m,n = A.shape\n",
        "\n",
        "  if computeQ:\n",
        "    Q = np.eye(m)\n",
        "\n",
        "  R = np.copy(A)\n",
        "  P = np.arange(0,n,1)\n",
        "  V = np.zeros((m,K))\n",
        "\n",
        "  for k in range(K):\n",
        "    # First, find the column with the largest norm\n",
        "    j = np.argmax(np.sum(np.abs(R[k:,k:])**2, axis=0)) + k\n",
        "\n",
        "    # Interchange the kth and jth columns of our\n",
        "    # permutation\n",
        "    P[[k, j]] = P[[j, k]]\n",
        "\n",
        "    # Interchange the kth and jth columns of R\n",
        "    R[:, [k, j]] = R[:, [j, k]]\n",
        "\n",
        "    # Compute our Householder transform vector\n",
        "    # First, we take the corresponding column\n",
        "    # vector from R\n",
        "    v = np.copy(R[k:,k])\n",
        "    # Then we reshape it\n",
        "    v = np.reshape(v, (n-k, 1))\n",
        "\n",
        "    # Then we subtract off the sign of the\n",
        "    # first entry times the norm of this vector\n",
        "    v[0] -= np.sign(v[0]) * np.linalg.norm(v)\n",
        "\n",
        "    # If our norm isn't zero, we normalize\n",
        "    # our vector and perform our Householder\n",
        "    # transform\n",
        "    norm = np.linalg.norm(v)\n",
        "\n",
        "    if (norm != 0):\n",
        "      v /= norm\n",
        "\n",
        "      # We multiply our Q matrix by our Householder\n",
        "      # transform, i.e. Q H\n",
        "      if computeQ:\n",
        "        Q[:,k:] = Q[:,k:] - 2 * Q[:,k:] @ v @ v.T\n",
        "\n",
        "      # We multiply our R matrix by our Householder\n",
        "      # transform, i.e. H R\n",
        "      R[k:, k:] = R[k:, k:] - 2 * v @ (R[k:, k:].T @ v).T\n",
        "      # R[k:,k:] = R[k:,k:] - 2 * v @ v.T @ R[k:,k:]\n",
        "\n",
        "    # Entries below diagonal of kth column should be zero, so we ignore\n",
        "    # faulty numerical errors and set them to be zero\n",
        "    R[(k + 1):,k] = np.zeros((m - k - 1))\n",
        "\n",
        "    # Store the corresponding Householder vector in our V matrix\n",
        "    V[k:,k] = v[:,0]\n",
        "\n",
        "  if computeQ:\n",
        "    return R, P, V, Q\n",
        "  else:\n",
        "    return R, P, V"
      ],
      "metadata": {
        "id": "f1wPRNLL_KvP"
      },
      "execution_count": 3,
      "outputs": []
    },
    {
      "cell_type": "code",
      "source": [
        "n = 200\n",
        "A = np.random.randn(n, n)\n",
        "\n",
        "R, P, V, Q = houseHolder(A, n, computeQ=True)\n",
        "QN, RN, PN = scipy.linalg.qr(A,pivoting=True)\n",
        "\n",
        "print(\"Our R: \", R)\n",
        "print(\"Scipy R: \", RN)\n",
        "\n",
        "diff = R + RN\n",
        "\n",
        "print(\"Difference between our R and Scipy's: \", diff)\n",
        "print(\"Norm of difference between our R and Scipy's\", np.linalg.norm(diff, ord=2))\n",
        "\n",
        "print(\"Is our householder R close to scipy's? \", np.allclose(R, RN))\n",
        "print(\"Is our householder Q close to scipy's? \", np.allclose(Q, QN))\n",
        "print(\"Is our householder P close to scipy's? \", np.allclose(P, PN))\n",
        "print(\"Is our householder QR close to A?\", np.allclose(A[:, P], Q @ R))"
      ],
      "metadata": {
        "colab": {
          "base_uri": "https://localhost:8080/"
        },
        "id": "Hdn1bf4OYrA0",
        "outputId": "46ed3cfd-33f3-4fbf-df88-f50974b4fe5c"
      },
      "execution_count": 6,
      "outputs": [
        {
          "output_type": "stream",
          "name": "stdout",
          "text": [
            "Our R:  [[     15.99    -0.7839     -1.138 ...    -0.1532     0.6852     0.7725]\n",
            " [         0      15.77       1.77 ...       2.35     0.5886      1.048]\n",
            " [         0          0     -15.59 ...     -0.159     -1.113     0.9553]\n",
            " ...\n",
            " [         0          0          0 ...     0.6005    0.07589    -0.3841]\n",
            " [         0          0          0 ...          0    -0.4415   0.001367]\n",
            " [         0          0          0 ...          0          0    -0.2669]]\n",
            "Scipy R:  [[    -15.99     0.7839      1.138 ...     0.1532    -0.6852    -0.7725]\n",
            " [         0     -15.77      -1.77 ...      -2.35    -0.5886     -1.048]\n",
            " [         0          0      15.59 ...      0.159      1.113    -0.9553]\n",
            " ...\n",
            " [         0          0          0 ...    -0.6005   -0.07589     0.3841]\n",
            " [         0          0          0 ...          0     0.4415  -0.001367]\n",
            " [         0          0          0 ...          0          0    -0.2669]]\n",
            "Difference between our R and Scipy's:  [[ 7.105e-15  6.661e-16   2.22e-16 ... -4.441e-16  8.882e-16 -6.661e-16]\n",
            " [         0          0  6.661e-16 ...  1.332e-15   2.22e-16          0]\n",
            " [         0          0  7.105e-15 ...  1.388e-16  4.441e-16 -3.331e-16]\n",
            " ...\n",
            " [         0          0          0 ...  2.442e-15  5.551e-16 -2.609e-15]\n",
            " [         0          0          0 ...          0  8.382e-15  7.772e-16]\n",
            " [         0          0          0 ...          0          0    -0.5339]]\n",
            "Norm of difference between our R and Scipy's 44.99970676266528\n",
            "Is our householder R close to scipy's?  False\n",
            "Is our householder Q close to scipy's?  False\n",
            "Is our householder P close to scipy's?  True\n",
            "Is our householder QR close to A? True\n"
          ]
        }
      ]
    },
    {
      "cell_type": "code",
      "source": [
        "def timePivotedHouseholder(sizes, num_repetitions):\n",
        "  times = []\n",
        "  for (m,n,K) in sizes:\n",
        "    A = np.random.randn(m, n)\n",
        "    running_average = 0\n",
        "    for r in range(num_repetitions):\n",
        "      start = time.time()\n",
        "      R, P, V = houseHolder(A, K)\n",
        "      end = time.time()\n",
        "      running_average += end - start\n",
        "    times.append(running_average / num_repetitions)\n",
        "  return times"
      ],
      "metadata": {
        "id": "MKT75M6hGIjl"
      },
      "execution_count": null,
      "outputs": []
    },
    {
      "cell_type": "code",
      "source": [
        "m_sizes = np.arange(500, 6000, 500)\n",
        "n_sizes = np.arange(500, 6000, 500)\n",
        "mn_sizes = np.arange(500, 4000, 500)\n",
        "k_sizes = 20\n",
        "\n",
        "m_linear = [(m, 500, 20) for m in m_sizes]\n",
        "n_linear = [(500, n, 20) for n in n_sizes]\n",
        "mn_quadratic = [(m, m, 20) for m in mn_sizes ]\n",
        "\n",
        "times_m = timePivotedHouseholder(m_linear, 5)\n",
        "times_n = timePivotedHouseholder(n_linear, 5)\n",
        "times_mn = timePivotedHouseholder(mn_quadratic, 3)"
      ],
      "metadata": {
        "id": "qkOpIoYOHO5K"
      },
      "execution_count": null,
      "outputs": []
    },
    {
      "cell_type": "code",
      "source": [
        "log_m_sizes = np.log(m_sizes)\n",
        "log_n_sizes = np.log(m_sizes)\n",
        "log_mn_sizes = np.log(mn_sizes)\n",
        "\n",
        "log_m_times = np.log(times_m)\n",
        "log_n_times = np.log(times_n)\n",
        "log_mn_times = np.log(times_mn)\n",
        "\n",
        "m_slope, _ = np.polyfit(log_m_sizes, log_m_times, 1)\n",
        "n_slope, _ = np.polyfit(log_n_sizes, log_n_times, 1)\n",
        "mn_slope, _ = np.polyfit(log_mn_sizes, log_mn_times, 1)\n",
        "\n",
        "print(\"Slope while varying m: \", m_slope)\n",
        "print(\"Slope while varying n: \", n_slope)\n",
        "print(\"Slope while varying m and n simultaneously: \", mn_slope)\n",
        "\n",
        "plt.scatter(log_m_sizes, log_m_times, c='b', label=\"M\")\n",
        "plt.scatter(log_n_sizes, log_n_times, c='r', label = \"N\")\n",
        "plt.scatter(log_mn_sizes, log_mn_times, c='g', label=\"MN\")\n",
        "plt.show()"
      ],
      "metadata": {
        "colab": {
          "base_uri": "https://localhost:8080/",
          "height": 482
        },
        "id": "NISKVL7bHiXN",
        "outputId": "990b916e-f90a-4534-866d-3e7b11010a8b"
      },
      "execution_count": null,
      "outputs": [
        {
          "output_type": "stream",
          "name": "stdout",
          "text": [
            "Slope while varying m:  0.9083310054328272\n",
            "Slope while varying n:  0.6464236719652859\n",
            "Slope while varying m and n simultaneously:  2.1529627334806087\n"
          ]
        },
        {
          "output_type": "display_data",
          "data": {
            "text/plain": [
              "<Figure size 640x480 with 1 Axes>"
            ],
            "image/png": "[encoded data removed]"
          },
          "metadata": {}
        }
      ]
    },
    {
      "cell_type": "code",
      "source": [
        "n = 200\n",
        "m = 2\n",
        "k = 100\n",
        "\n",
        "X = np.random.uniform(low=0,high=1,size=(n,m))\n",
        "X_squared_dist = -2 * scipy.spatial.distance.squareform(scipy.spatial.distance.pdist(X)) ** 2\n",
        "G = np.exp(X_squared_dist)\n",
        "\n",
        "HR, HP, HV, HQ = houseHolder(G, K=k, computeQ=True)\n",
        "SU, SD, SV = np.linalg.svd(G, full_matrices=False)\n",
        "S = np.diag(SD)\n",
        "\n",
        "Error_Householder = np.linalg.norm(HR[k:, k:])\n",
        "# Error_Householder = np.linalg.norm(G[:, HP] - HQ[:, :k] @ HR[:k, :], ord=2)\n",
        "Error_SVD = SD[k + 1]\n",
        "# Error_SVD = np.linalg.norm(G - SU[:, :k] @ S[:k, :k] @ SV[:k, :], ord=2)\n",
        "\n",
        "print(\"Householder Error Norm: \", Error_Householder)\n",
        "print(\"SVD Error Norm: \", Error_SVD)"
      ],
      "metadata": {
        "colab": {
          "base_uri": "https://localhost:8080/"
        },
        "id": "9v5QtjlkNaTV",
        "outputId": "bf048420-018d-4028-a4fc-128112b26a50"
      },
      "execution_count": 21,
      "outputs": [
        {
          "output_type": "stream",
          "name": "stdout",
          "text": [
            "Householder Error Norm:  1.99401012184797e-14\n",
            "SVD Error Norm:  1.1539833747123471e-14\n"
          ]
        }
      ]
    },
    {
      "cell_type": "code",
      "source": [
        "W1 = np.loadtxt(open(\"W1.txt\", \"rb\"), delimiter=\",\")\n",
        "W2 = np.loadtxt(open(\"W2.txt\", \"rb\"), delimiter=\",\")\n",
        "W3 = np.loadtxt(open(\"W3.txt\", \"rb\"), delimiter=\",\")\n",
        "W4 = np.loadtxt(open(\"W4.txt\", \"rb\"), delimiter=\",\")\n",
        "W5 = np.loadtxt(open(\"W5.txt\", \"rb\"), delimiter=\",\")\n",
        "W6 = np.loadtxt(open(\"W6.txt\", \"rb\"), delimiter=\",\")\n",
        "W7 = np.loadtxt(open(\"W7.txt\", \"rb\"), delimiter=\",\")\n",
        "WS = np.loadtxt(open(\"WS.txt\", \"rb\"), delimiter=\",\")\n",
        "\n",
        "XC = np.loadtxt(open(\"XC.txt\", \"rb\"), delimiter=\",\")\n",
        "XT = np.loadtxt(open(\"XT.txt\", \"rb\"), delimiter=\",\")\n",
        "\n",
        "y = np.loadtxt(open(\"y.txt\", \"rb\"), delimiter=\",\")"
      ],
      "metadata": {
        "id": "5FVUy-D8P8CE",
        "colab": {
          "base_uri": "https://localhost:8080/",
          "height": 211
        },
        "outputId": "2f8f39cb-c6e1-45c5-d898-376a37a83753"
      },
      "execution_count": 22,
      "outputs": [
        {
          "output_type": "error",
          "ename": "FileNotFoundError",
          "evalue": "[Errno 2] No such file or directory: 'W1.txt'",
          "traceback": [
            "\u001b[0;31m---------------------------------------------------------------------------\u001b[0m",
            "\u001b[0;31mFileNotFoundError\u001b[0m                         Traceback (most recent call last)",
            "\u001b[0;32m<ipython-input-22-56a686c662e7>\u001b[0m in \u001b[0;36m<cell line: 1>\u001b[0;34m()\u001b[0m\n\u001b[0;32m----> 1\u001b[0;31m \u001b[0mW1\u001b[0m \u001b[0;34m=\u001b[0m \u001b[0mnp\u001b[0m\u001b[0;34m.\u001b[0m\u001b[0mloadtxt\u001b[0m\u001b[0;34m(\u001b[0m\u001b[0mopen\u001b[0m\u001b[0;34m(\u001b[0m\u001b[0;34m\"W1.txt\"\u001b[0m\u001b[0;34m,\u001b[0m \u001b[0;34m\"rb\"\u001b[0m\u001b[0;34m)\u001b[0m\u001b[0;34m,\u001b[0m \u001b[0mdelimiter\u001b[0m\u001b[0;34m=\u001b[0m\u001b[0;34m\",\"\u001b[0m\u001b[0;34m)\u001b[0m\u001b[0;34m\u001b[0m\u001b[0;34m\u001b[0m\u001b[0m\n\u001b[0m\u001b[1;32m      2\u001b[0m \u001b[0mW2\u001b[0m \u001b[0;34m=\u001b[0m \u001b[0mnp\u001b[0m\u001b[0;34m.\u001b[0m\u001b[0mloadtxt\u001b[0m\u001b[0;34m(\u001b[0m\u001b[0mopen\u001b[0m\u001b[0;34m(\u001b[0m\u001b[0;34m\"W2.txt\"\u001b[0m\u001b[0;34m,\u001b[0m \u001b[0;34m\"rb\"\u001b[0m\u001b[0;34m)\u001b[0m\u001b[0;34m,\u001b[0m \u001b[0mdelimiter\u001b[0m\u001b[0;34m=\u001b[0m\u001b[0;34m\",\"\u001b[0m\u001b[0;34m)\u001b[0m\u001b[0;34m\u001b[0m\u001b[0;34m\u001b[0m\u001b[0m\n\u001b[1;32m      3\u001b[0m \u001b[0mW3\u001b[0m \u001b[0;34m=\u001b[0m \u001b[0mnp\u001b[0m\u001b[0;34m.\u001b[0m\u001b[0mloadtxt\u001b[0m\u001b[0;34m(\u001b[0m\u001b[0mopen\u001b[0m\u001b[0;34m(\u001b[0m\u001b[0;34m\"W3.txt\"\u001b[0m\u001b[0;34m,\u001b[0m \u001b[0;34m\"rb\"\u001b[0m\u001b[0;34m)\u001b[0m\u001b[0;34m,\u001b[0m \u001b[0mdelimiter\u001b[0m\u001b[0;34m=\u001b[0m\u001b[0;34m\",\"\u001b[0m\u001b[0;34m)\u001b[0m\u001b[0;34m\u001b[0m\u001b[0;34m\u001b[0m\u001b[0m\n\u001b[1;32m      4\u001b[0m \u001b[0mW4\u001b[0m \u001b[0;34m=\u001b[0m \u001b[0mnp\u001b[0m\u001b[0;34m.\u001b[0m\u001b[0mloadtxt\u001b[0m\u001b[0;34m(\u001b[0m\u001b[0mopen\u001b[0m\u001b[0;34m(\u001b[0m\u001b[0;34m\"W4.txt\"\u001b[0m\u001b[0;34m,\u001b[0m \u001b[0;34m\"rb\"\u001b[0m\u001b[0;34m)\u001b[0m\u001b[0;34m,\u001b[0m \u001b[0mdelimiter\u001b[0m\u001b[0;34m=\u001b[0m\u001b[0;34m\",\"\u001b[0m\u001b[0;34m)\u001b[0m\u001b[0;34m\u001b[0m\u001b[0;34m\u001b[0m\u001b[0m\n\u001b[1;32m      5\u001b[0m \u001b[0mW5\u001b[0m \u001b[0;34m=\u001b[0m \u001b[0mnp\u001b[0m\u001b[0;34m.\u001b[0m\u001b[0mloadtxt\u001b[0m\u001b[0;34m(\u001b[0m\u001b[0mopen\u001b[0m\u001b[0;34m(\u001b[0m\u001b[0;34m\"W5.txt\"\u001b[0m\u001b[0;34m,\u001b[0m \u001b[0;34m\"rb\"\u001b[0m\u001b[0;34m)\u001b[0m\u001b[0;34m,\u001b[0m \u001b[0mdelimiter\u001b[0m\u001b[0;34m=\u001b[0m\u001b[0;34m\",\"\u001b[0m\u001b[0;34m)\u001b[0m\u001b[0;34m\u001b[0m\u001b[0;34m\u001b[0m\u001b[0m\n",
            "\u001b[0;31mFileNotFoundError\u001b[0m: [Errno 2] No such file or directory: 'W1.txt'"
          ]
        }
      ]
    },
    {
      "cell_type": "code",
      "source": [
        "def fully_connected(W, x):\n",
        "  xTW = x.T @ W\n",
        "  return xTW * (xTW > 0)\n",
        "\n",
        "def model(Layers, WS, x):\n",
        "  output = x\n",
        "  for W in Layers:\n",
        "    output = fully_connected(W, output)\n",
        "  return scipy.special.softmax(output.T @ WS)\n",
        "\n",
        "layers = [W1, W2, W3, W4, W5, W6, W7]\n",
        "x = XC[:, 0]\n",
        "model(layers, WS, x)"
      ],
      "metadata": {
        "colab": {
          "base_uri": "https://localhost:8080/"
        },
        "id": "vqJdb313oWcH",
        "outputId": "7d071f7c-183c-4788-c504-a4b8eccdb908"
      },
      "execution_count": null,
      "outputs": [
        {
          "output_type": "execute_result",
          "data": {
            "text/plain": [
              "array([   0.09397,    0.08969,    0.09261,    0.09239,    0.09363,\n",
              "           0.1101,    0.09843,     0.1145,     0.1047,     0.1101])"
            ]
          },
          "metadata": {},
          "execution_count": 63
        }
      ]
    },
    {
      "cell_type": "code",
      "source": [],
      "metadata": {
        "id": "S8XdN_BSrB_y"
      },
      "execution_count": null,
      "outputs": []
    }
  ]
}